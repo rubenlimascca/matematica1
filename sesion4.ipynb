{
  "cells": [
    {
      "cell_type": "markdown",
      "metadata": {
        "id": "oCGZCqBVZyZ8"
      },
      "source": [
        "#**Introducción al lenguaje de programación Python**\n"
      ]
    },
    {
      "cell_type": "markdown",
      "metadata": {
        "id": "Wuk-cBFWbGaH"
      },
      "source": [
        "# Generalidades"
      ]
    },
    {
      "cell_type": "markdown",
      "metadata": {
        "id": "67ca-qhta69x"
      },
      "source": []
    },
    {
      "cell_type": "code",
      "execution_count": 4,
      "metadata": {
        "colab": {
          "base_uri": "https://localhost:8080/"
        },
        "id": "Di2H6SwEWfkC",
        "outputId": "0bcf07c7-2774-4853-e5b3-0a6b8d308435"
      },
      "outputs": [
        {
          "name": "stdout",
          "output_type": "stream",
          "text": [
            "z tiene un valor de: 45\n"
          ]
        }
      ],
      "source": [
        "x=0\n",
        "y=45\n",
        "z=x+y\n",
        "print( \"z tiene un valor de:\",z)"
      ]
    },
    {
      "cell_type": "markdown",
      "metadata": {
        "id": "VFLK59cp-SRL"
      },
      "source": [
        "##Tipos de datos integrados"
      ]
    },
    {
      "cell_type": "markdown",
      "metadata": {
        "id": "VNIofXfFbb-8"
      },
      "source": [
        "Tipo   |  Descripción\n",
        "-------|----------------\n",
        "string | cadena de texto\n",
        "int    | número entero\n",
        "float  | número real\n",
        "bool   | booleano\n",
        "\n",
        "\n"
      ]
    },
    {
      "cell_type": "markdown",
      "metadata": {
        "id": "FuHQaWUnd3WU"
      },
      "source": [
        "## **Variables**\n",
        "Símbolo que nos permite obtener información referente al lugar de almacenamiento de un dato en memoria"
      ]
    },
    {
      "cell_type": "code",
      "execution_count": 6,
      "metadata": {
        "colab": {
          "base_uri": "https://localhost:8080/"
        },
        "id": "_jDuntWAeDXD",
        "outputId": "5a6b98af-82f6-428b-bc9d-d3fdcb03590b"
      },
      "outputs": [
        {
          "data": {
            "text/plain": [
              "str"
            ]
          },
          "execution_count": 6,
          "metadata": {},
          "output_type": "execute_result"
        }
      ],
      "source": [
        "nom=\"Ruben\"\n",
        "apell=\"Limascca\"\n",
        "type(nom)"
      ]
    },
    {
      "cell_type": "code",
      "execution_count": 7,
      "metadata": {
        "colab": {
          "base_uri": "https://localhost:8080/"
        },
        "id": "8ZOM6LreeeFf",
        "outputId": "94b7f942-9038-4006-99b8-b88dce63fda8"
      },
      "outputs": [
        {
          "name": "stdout",
          "output_type": "stream",
          "text": [
            "Ruben\n",
            "Limascca\n"
          ]
        }
      ],
      "source": [
        "print(nom)\n",
        "print(apell)"
      ]
    },
    {
      "cell_type": "code",
      "execution_count": 8,
      "metadata": {
        "colab": {
          "base_uri": "https://localhost:8080/"
        },
        "id": "g5FxnxKg_CIa",
        "outputId": "eaf70c43-086c-4a9f-bb84-f17d624c8592"
      },
      "outputs": [
        {
          "data": {
            "text/plain": [
              "str"
            ]
          },
          "execution_count": 8,
          "metadata": {},
          "output_type": "execute_result"
        }
      ],
      "source": [
        "type(nom)"
      ]
    },
    {
      "cell_type": "markdown",
      "metadata": {
        "id": "m3u3hI38_UI9"
      },
      "source": [
        "## ** Operadores aritméticos y operadores lógicos**"
      ]
    },
    {
      "cell_type": "markdown",
      "metadata": {
        "id": "NQLzcl9__mnj"
      },
      "source": [
        "Descripción  | Operador\n",
        "-------------|-------------\n",
        "Suma         | +\n",
        "Diferencia   | -\n",
        "Producto     | *\n",
        "División     | /\n",
        "Potencia     | **\n",
        "Módulo       | %\n",
        "Disyunción   | or\n",
        "Conjunción   | and\n",
        "Negación     | not\n"
      ]
    },
    {
      "cell_type": "markdown",
      "metadata": {
        "id": "2FfoVu3Z__p0"
      },
      "source": [
        "```\n",
        "# Esto tiene formato de código\n",
        "```\n",
        "\n",
        "## **Inserción de código LaTex**"
      ]
    },
    {
      "cell_type": "markdown",
      "metadata": {
        "id": "mr5U2DW3e_Kb"
      },
      "source": [
        "$\\frac{a}{b+c}$\n",
        "\n",
        "$x+y=\\mathcal{T}$\n",
        "\n",
        "Una ecuación cuadrática está dada por:\n",
        "$$ax^2 + bx + c = 0$$ Su solución es:\n",
        " $$x = \\frac{-b \\pm \\sqrt{b^2 - 4ac}}{2a}$$\n"
      ]
    },
    {
      "cell_type": "markdown",
      "metadata": {
        "id": "LDpXMhU0BsBR"
      },
      "source": [
        "##  Funciones integradas\n",
        "[Referencia](https://docs.python.org/pt-br/3/library/functions.html)\n"
      ]
    },
    {
      "cell_type": "code",
      "execution_count": 9,
      "metadata": {
        "colab": {
          "base_uri": "https://localhost:8080/"
        },
        "id": "PBuqmO0fCB2W",
        "outputId": "0257ba71-38a8-448f-9b49-81818dde6996"
      },
      "outputs": [
        {
          "name": "stdout",
          "output_type": "stream",
          "text": [
            "9.86902225\n"
          ]
        }
      ],
      "source": [
        "x = -3.1415\n",
        "y = abs(x**2) # función valor absoluto\n",
        "print(y)"
      ]
    },
    {
      "cell_type": "code",
      "execution_count": 10,
      "metadata": {
        "colab": {
          "base_uri": "https://localhost:8080/"
        },
        "id": "1npP5JfXCQ7A",
        "outputId": "52df0207-e1bf-46c5-ac65-b91a394f7bc4"
      },
      "outputs": [
        {
          "name": "stdout",
          "output_type": "stream",
          "text": [
            "8\n"
          ]
        }
      ],
      "source": [
        "x = 2\n",
        "y = 3\n",
        "z = pow(x,y) # función potencia\n",
        "print(z)"
      ]
    },
    {
      "cell_type": "code",
      "execution_count": 11,
      "metadata": {
        "colab": {
          "base_uri": "https://localhost:8080/"
        },
        "id": "QOgM3NOxCYPM",
        "outputId": "a028370c-dcd3-4d0b-f3ac-3cf2d888e932"
      },
      "outputs": [
        {
          "name": "stdout",
          "output_type": "stream",
          "text": [
            "3\n"
          ]
        }
      ],
      "source": [
        "m = max(x,y) # función máximo\n",
        "print(m)"
      ]
    },
    {
      "cell_type": "code",
      "execution_count": 12,
      "metadata": {
        "colab": {
          "base_uri": "https://localhost:8080/"
        },
        "id": "8uJvxnEjCjAN",
        "outputId": "cda52c24-0000-4e85-b320-fd5165978df6"
      },
      "outputs": [
        {
          "name": "stdout",
          "output_type": "stream",
          "text": [
            "0x19\n"
          ]
        },
        {
          "data": {
            "text/plain": [
              "str"
            ]
          },
          "execution_count": 12,
          "metadata": {},
          "output_type": "execute_result"
        }
      ],
      "source": [
        "h = hex(25) # función que convierte a hexadecimal en forma string\n",
        "print(h)\n",
        "type(h)"
      ]
    },
    {
      "cell_type": "markdown",
      "metadata": {
        "id": "TABwRT2ZCpG7"
      },
      "source": [
        "**Más información sobre tipos, operaciones y funciones integradas**\n",
        "\n",
        "---\n",
        "\n",
        "\n",
        "[enlace](https://docs.python.org/es/3/library/stdtypes.html#list)"
      ]
    },
    {
      "cell_type": "markdown",
      "metadata": {
        "id": "ZBllXFhmC7Zw"
      },
      "source": [
        "## **Funciones matemáticas del módulo math**\n",
        "[Módulo math](https://docs.python.org/es/3/library/math.html)"
      ]
    },
    {
      "cell_type": "code",
      "execution_count": 13,
      "metadata": {
        "id": "UfHx8N-gdFRv"
      },
      "outputs": [],
      "source": [
        "import math   # carga el módulo de funciones math"
      ]
    },
    {
      "cell_type": "code",
      "execution_count": 14,
      "metadata": {
        "colab": {
          "base_uri": "https://localhost:8080/"
        },
        "id": "k5U5e82NdVMv",
        "outputId": "96adbc28-18d5-4c90-ba89-b3b1ef54e012"
      },
      "outputs": [
        {
          "data": {
            "text/plain": [
              "4"
            ]
          },
          "execution_count": 14,
          "metadata": {},
          "output_type": "execute_result"
        }
      ],
      "source": [
        "math.gcd(8,4)   # Máximo común de dos números enteros\n"
      ]
    },
    {
      "cell_type": "code",
      "execution_count": 15,
      "metadata": {
        "colab": {
          "base_uri": "https://localhost:8080/"
        },
        "id": "IYmEXMSXdzAj",
        "outputId": "d95f2481-0dc7-4008-9874-aeb719713d5d"
      },
      "outputs": [
        {
          "data": {
            "text/plain": [
              "3"
            ]
          },
          "execution_count": 15,
          "metadata": {},
          "output_type": "execute_result"
        }
      ],
      "source": [
        "math.gcd(15,36)    # Máximo común divisor de dos números enteros"
      ]
    },
    {
      "cell_type": "code",
      "execution_count": 16,
      "metadata": {
        "colab": {
          "base_uri": "https://localhost:8080/"
        },
        "id": "YO6oSSK4eDs1",
        "outputId": "4d3a4edb-429b-4b89-b5c5-ad386e2683a1"
      },
      "outputs": [
        {
          "data": {
            "text/plain": [
              "2.718281828459045"
            ]
          },
          "execution_count": 16,
          "metadata": {},
          "output_type": "execute_result"
        }
      ],
      "source": [
        "math.exp(1)   # Función exponencial base e"
      ]
    },
    {
      "cell_type": "markdown",
      "metadata": {
        "id": "YEiDEYuTDiqt"
      },
      "source": [
        "# Estructura de datos en Python\n",
        "Son \"contenedores\"  Recuperado de [enlace](https://towardsdatascience.com/which-python-data-structure-should-you-use-fa1edd82946c)\n",
        "<img src=\"https://miro.medium.com/max/1400/1*2JFd94q0vzsEcr-LB-220g.png\">\n",
        "\n"
      ]
    },
    {
      "cell_type": "code",
      "execution_count": 17,
      "metadata": {
        "colab": {
          "base_uri": "https://localhost:8080/"
        },
        "id": "X_D9k29pD_oq",
        "outputId": "93aa8788-680a-415d-faed-314f199dcab7"
      },
      "outputs": [
        {
          "data": {
            "text/plain": [
              "40320"
            ]
          },
          "execution_count": 17,
          "metadata": {},
          "output_type": "execute_result"
        }
      ],
      "source": [
        "import math\n",
        "math.factorial(8)"
      ]
    },
    {
      "cell_type": "markdown",
      "metadata": {
        "id": "vUbuS759EIWq"
      },
      "source": [
        "## **Listas**\n",
        "\n",
        "Estructura que permite almacenar elementos de diferentes tipos. Esto hace que las listas sean poderosas porque le permiten crear estructuras de datos profundas y complejas. ¡Es mutable! [referencia](https://docs.python.org/es/3/library/stdtypes.html#list)"
      ]
    },
    {
      "cell_type": "code",
      "execution_count": 18,
      "metadata": {
        "colab": {
          "base_uri": "https://localhost:8080/"
        },
        "id": "foK30G28jJUm",
        "outputId": "cc2afdfa-bc64-478a-8ccc-02fe28e4dce3"
      },
      "outputs": [
        {
          "name": "stdout",
          "output_type": "stream",
          "text": [
            "<class 'list'>\n",
            "1\n",
            "jorge\n",
            "True\n"
          ]
        }
      ],
      "source": [
        "lista1=[1,\"jorge\",True] # Esto es un objeto de la estructura lista\n",
        "print(type(lista1))\n",
        "print(lista1[0]) # imprime la entrada con índice cero\n",
        "print(lista1[1])\n",
        "print(lista1[2])"
      ]
    },
    {
      "cell_type": "code",
      "execution_count": 19,
      "metadata": {
        "colab": {
          "base_uri": "https://localhost:8080/"
        },
        "id": "FeBoEbL-kZY2",
        "outputId": "52ec5d1a-2fd6-4307-ba66-79ea301794e5"
      },
      "outputs": [
        {
          "name": "stdout",
          "output_type": "stream",
          "text": [
            "255\n",
            "[1, 'jorge', True]\n",
            "True\n"
          ]
        }
      ],
      "source": [
        "lista2=[255,\"pepe\",lista1] # lista dentro de lista\n",
        "print(lista2[0])\n",
        "print(lista2[2])\n",
        "print(lista2[2][2]) # accediendo al elemento con índice 2 del elemento con índice 2 de lista2"
      ]
    },
    {
      "cell_type": "markdown",
      "metadata": {
        "id": "yCeW5fq3pXe9"
      },
      "source": [
        "## ** Métodos y funciones para listas**\n",
        "Un método es una función que \"pertenece\" a un objeto\n",
        "\n",
        "Los métodos permiten extraer información de los objetos (Por ejemplo las listas)\n"
      ]
    },
    {
      "cell_type": "code",
      "execution_count": 20,
      "metadata": {
        "colab": {
          "base_uri": "https://localhost:8080/"
        },
        "id": "k-ZoxnOvpz1c",
        "outputId": "4e4491fe-1bd3-4fd8-9c32-d208c3490d62"
      },
      "outputs": [
        {
          "name": "stdout",
          "output_type": "stream",
          "text": [
            "[12, 13, 23, 23, 25, 45]\n",
            "[12, 13, 23, 23, 25, 45, 100]\n",
            "[12, 13, 23, 23, 25, 45, 100]\n"
          ]
        }
      ],
      "source": [
        "edades=[25,23,12,45,13,23]\n",
        "#edades.sort\n",
        "edades.sort() # método sort\n",
        "print(edades)\n",
        "edades.append(100)\n",
        "print(edades)\n",
        "edades.sort()\n",
        "print(edades)\n",
        "\n"
      ]
    },
    {
      "cell_type": "code",
      "execution_count": 21,
      "metadata": {
        "colab": {
          "base_uri": "https://localhost:8080/"
        },
        "id": "yj2O_91SqjX2",
        "outputId": "17eaf656-f799-4904-8799-8c3274fd35c4"
      },
      "outputs": [
        {
          "data": {
            "text/plain": [
              "2"
            ]
          },
          "execution_count": 21,
          "metadata": {},
          "output_type": "execute_result"
        }
      ],
      "source": [
        "edades.count(23) # El número count devuelve el número de ocurrencias de un objeto dentro de una lista"
      ]
    },
    {
      "cell_type": "code",
      "execution_count": 22,
      "metadata": {
        "colab": {
          "base_uri": "https://localhost:8080/"
        },
        "id": "nLYbs1m5rI8l",
        "outputId": "7bca7219-136b-4338-9475-0fd5ff4f9cd6"
      },
      "outputs": [
        {
          "name": "stdout",
          "output_type": "stream",
          "text": [
            "[25, 23, 12, 45, 13, 23]\n",
            "[45, 25, 23, 23, 13, 12]\n"
          ]
        }
      ],
      "source": [
        "edades2=[25,23,12,45,13,23]\n",
        "edades3=sorted(edades2,reverse=True)  # función \"sorted\" incorporada en Python\n",
        "print(edades2)\n",
        "print(edades3)"
      ]
    },
    {
      "cell_type": "code",
      "execution_count": 23,
      "metadata": {
        "colab": {
          "base_uri": "https://localhost:8080/"
        },
        "id": "Wd4q0qTq1Wp9",
        "outputId": "96359c22-1106-4d7a-afba-c011cecf9fac"
      },
      "outputs": [
        {
          "name": "stdout",
          "output_type": "stream",
          "text": [
            "[33.0, 20.5, 18.7, 12.3]\n"
          ]
        }
      ],
      "source": [
        "pesos=[20.5,33.0,12.3,18.7]\n",
        "pesos.sort(reverse=True)\n",
        "print(pesos)"
      ]
    },
    {
      "cell_type": "code",
      "execution_count": 24,
      "metadata": {
        "colab": {
          "base_uri": "https://localhost:8080/"
        },
        "id": "JGovifnDqhl-",
        "outputId": "0a278cea-7ef4-4cc5-fc45-c4697736dc4b"
      },
      "outputs": [
        {
          "name": "stdout",
          "output_type": "stream",
          "text": [
            "['triangulo', 'cuadrado', 'trapecio']\n",
            "['triangulo', 'cuadrado', 'trapecio', 'rombo']\n",
            "['rombo', 'trapecio', 'cuadrado', 'triangulo']\n"
          ]
        }
      ],
      "source": [
        "poligonos=[\"triangulo\",\"cuadrado\",\"trapecio\"]\n",
        "print(poligonos)\n",
        "poligonos.append(\"rombo\")   # El método append sirve para añadir elementos a la lista\n",
        "print(poligonos)\n",
        "poligonos.reverse()\n",
        "print(poligonos)\n",
        "\n"
      ]
    },
    {
      "cell_type": "code",
      "execution_count": null,
      "metadata": {
        "id": "NdCNnvA03GA0"
      },
      "outputs": [],
      "source": []
    },
    {
      "cell_type": "code",
      "execution_count": 25,
      "metadata": {
        "colab": {
          "base_uri": "https://localhost:8080/"
        },
        "id": "c0SdR18-3Ie0",
        "outputId": "255daf11-9275-4d0a-eb4e-74998aed3fce"
      },
      "outputs": [
        {
          "name": "stdout",
          "output_type": "stream",
          "text": [
            "['rombo', 'trapecio', 'cuadrado', 'triangulo', ['hexagono', 'pentagono']]\n",
            "['rectangulo', 'rombo', 'trapecio', 'cuadrado', 'triangulo', ['hexagono', 'pentagono']]\n"
          ]
        }
      ],
      "source": [
        "otros=[\"hexagono\",\"pentagono\"]\n",
        "poligonos.append(otros)\n",
        "print(poligonos)\n",
        "poligonos.insert(0,\"rectangulo\")\n",
        "print(poligonos)"
      ]
    },
    {
      "cell_type": "code",
      "execution_count": 26,
      "metadata": {
        "colab": {
          "base_uri": "https://localhost:8080/"
        },
        "id": "Er-RoJEe31Mr",
        "outputId": "6a27020d-7987-488d-b5e3-4da449fe916a"
      },
      "outputs": [
        {
          "name": "stdout",
          "output_type": "stream",
          "text": [
            "['rectangulo', 'rombo', 'trapecio', 'triangulo', ['hexagono', 'pentagono']]\n"
          ]
        }
      ],
      "source": [
        "poligonos.remove(\"cuadrado\")\n",
        "print(poligonos)"
      ]
    },
    {
      "cell_type": "code",
      "execution_count": 27,
      "metadata": {
        "colab": {
          "base_uri": "https://localhost:8080/"
        },
        "id": "uvoxTpb34Kqk",
        "outputId": "0f3bc12b-8575-4517-c5cc-b99e3e68f9ce"
      },
      "outputs": [
        {
          "data": {
            "text/plain": [
              "5"
            ]
          },
          "execution_count": 27,
          "metadata": {},
          "output_type": "execute_result"
        }
      ],
      "source": [
        "len(poligonos)"
      ]
    },
    {
      "cell_type": "code",
      "execution_count": null,
      "metadata": {
        "id": "IN2DJw7Q4UrT"
      },
      "outputs": [],
      "source": []
    },
    {
      "cell_type": "code",
      "execution_count": 28,
      "metadata": {
        "colab": {
          "base_uri": "https://localhost:8080/"
        },
        "id": "kvbjr9H_40oc",
        "outputId": "1bfe4bae-c03c-4598-e8d2-48fa76f78d1f"
      },
      "outputs": [
        {
          "name": "stdout",
          "output_type": "stream",
          "text": [
            "['a', 'b', 'c', 'c', 'd']\n",
            "['c', 'd', 'a', 'b', 'c']\n"
          ]
        }
      ],
      "source": [
        "list3=[\"a\",\"b\",\"c\"]\n",
        "list4=[\"c\",\"d\"]\n",
        "concat1=list3+list4\n",
        "print(concat1)\n",
        "concat2=list4+list3\n",
        "print(concat2)"
      ]
    },
    {
      "cell_type": "code",
      "execution_count": 29,
      "metadata": {
        "colab": {
          "base_uri": "https://localhost:8080/"
        },
        "id": "QbqnMdBO6WC9",
        "outputId": "8c0db843-b9eb-460a-de94-bac95c5c0ac6"
      },
      "outputs": [
        {
          "name": "stdout",
          "output_type": "stream",
          "text": [
            "['a', 'b', 'c']\n",
            "[123, 'b', 'c']\n"
          ]
        }
      ],
      "source": [
        "print(list3)\n",
        "list3[0]=123 # Modificando la entrada 0 de la list3\n",
        "print(list3)"
      ]
    },
    {
      "cell_type": "code",
      "execution_count": null,
      "metadata": {
        "id": "3qiJm6k-602q"
      },
      "outputs": [],
      "source": []
    },
    {
      "cell_type": "markdown",
      "metadata": {
        "id": "G5XSwBOFHrB4"
      },
      "source": [
        "## Tupla\n",
        "Estructura similar a la estructura lista, sin embargo es inmutable es decir no se puede modificar.\n",
        "[referencia](https://docs.python.org/es/3/library/stdtypes.html#tuple)"
      ]
    },
    {
      "cell_type": "code",
      "execution_count": 30,
      "metadata": {
        "colab": {
          "base_uri": "https://localhost:8080/"
        },
        "id": "6xWtpQApIr7C",
        "outputId": "8ab57ce4-e23e-46d6-a4f6-44dee0a9e3b2"
      },
      "outputs": [
        {
          "name": "stdout",
          "output_type": "stream",
          "text": [
            "<class 'tuple'>\n",
            "a\n"
          ]
        },
        {
          "data": {
            "text/plain": [
              "1"
            ]
          },
          "execution_count": 30,
          "metadata": {},
          "output_type": "execute_result"
        }
      ],
      "source": [
        "tupla = (\"a\",\"b\",\"c\")\n",
        "print(type(tupla))\n",
        "print(tupla[0])\n",
        "tupla.index(\"b\")"
      ]
    },
    {
      "cell_type": "code",
      "execution_count": 31,
      "metadata": {
        "colab": {
          "base_uri": "https://localhost:8080/"
        },
        "id": "lgLkTJD4I2g-",
        "outputId": "61ac95d0-e274-498e-a67f-635dd82c5622"
      },
      "outputs": [
        {
          "name": "stdout",
          "output_type": "stream",
          "text": [
            "Esto  ('a', 'b', 'c')  es una tupla\n",
            "\n",
            "Esto  ('a', 'b', 'c')  es una tupla\n",
            "\n",
            "Esto  ('a', 'b', 'c')  es una tupla\n"
          ]
        }
      ],
      "source": [
        "print(\"Esto \",tupla,\" es una tupla\\n\")\n",
        "print(\"Esto \",tupla,\" es una tupla\")\n",
        "print(\"\\nEsto \",tupla,\" es una tupla\")"
      ]
    },
    {
      "cell_type": "code",
      "execution_count": 32,
      "metadata": {
        "colab": {
          "base_uri": "https://localhost:8080/"
        },
        "id": "I7NTUYjl9To0",
        "outputId": "8f8d6044-4790-46ea-aad8-fa59ae2c0205"
      },
      "outputs": [
        {
          "data": {
            "text/plain": [
              "1"
            ]
          },
          "execution_count": 32,
          "metadata": {},
          "output_type": "execute_result"
        }
      ],
      "source": [
        "tupla.index(\"b\")"
      ]
    },
    {
      "cell_type": "code",
      "execution_count": 33,
      "metadata": {
        "colab": {
          "base_uri": "https://localhost:8080/",
          "height": 141
        },
        "id": "7koJFsexJloa",
        "outputId": "b0ac1293-885f-41a2-deac-fa549993b193"
      },
      "outputs": [
        {
          "ename": "TypeError",
          "evalue": "'tuple' object does not support item assignment",
          "output_type": "error",
          "traceback": [
            "\u001b[31m---------------------------------------------------------------------------\u001b[39m",
            "\u001b[31mTypeError\u001b[39m                                 Traceback (most recent call last)",
            "\u001b[36mCell\u001b[39m\u001b[36m \u001b[39m\u001b[32mIn[33]\u001b[39m\u001b[32m, line 1\u001b[39m\n\u001b[32m----> \u001b[39m\u001b[32m1\u001b[39m \u001b[43mtupla\u001b[49m\u001b[43m[\u001b[49m\u001b[32;43m0\u001b[39;49m\u001b[43m]\u001b[49m=\u001b[33m\"\u001b[39m\u001b[33md\u001b[39m\u001b[33m\"\u001b[39m \u001b[38;5;66;03m# ERROR, es inmutable!\u001b[39;00m\n",
            "\u001b[31mTypeError\u001b[39m: 'tuple' object does not support item assignment"
          ]
        }
      ],
      "source": [
        "tupla[0]=\"d\" # ERROR, es inmutable!"
      ]
    },
    {
      "cell_type": "code",
      "execution_count": 34,
      "metadata": {
        "colab": {
          "base_uri": "https://localhost:8080/"
        },
        "id": "PfeaL_St7Zd6",
        "outputId": "625a1697-8e02-4a63-8468-8a4cade87be2"
      },
      "outputs": [
        {
          "name": "stdout",
          "output_type": "stream",
          "text": [
            "<class 'tuple'>\n",
            "a\n"
          ]
        },
        {
          "data": {
            "text/plain": [
              "1"
            ]
          },
          "execution_count": 34,
          "metadata": {},
          "output_type": "execute_result"
        }
      ],
      "source": [
        "tup=(\"a\",\"b\",\"c\")\n",
        "print(type(tup))\n",
        "print(tup[0])\n",
        "tup.index(\"b\")"
      ]
    },
    {
      "cell_type": "code",
      "execution_count": 35,
      "metadata": {
        "colab": {
          "base_uri": "https://localhost:8080/"
        },
        "id": "K5DQPCMV8Ax7",
        "outputId": "ae9d828a-b3a7-4701-92cd-e3eaad4967dc"
      },
      "outputs": [
        {
          "name": "stdout",
          "output_type": "stream",
          "text": [
            "Esto ('a', 'b', 'c') es una tupla\n",
            "\n"
          ]
        }
      ],
      "source": [
        "print(\"Esto\",tup,\"es una tupla\\n\")\n",
        "# print(\"Esto\",tup,\"es una tupla\")\n",
        "#print(\"\\nEsto\",tup,\"es una tupla\")"
      ]
    },
    {
      "cell_type": "markdown",
      "metadata": {
        "id": "o3BGbzaQKPeV"
      },
      "source": [
        "## Rango\n",
        "Estructura para almacenar sucesiones finitas de números enteros. Es inmutable!.\n",
        "[Referencia](https://docs.python.org/es/3/library/stdtypes.html#tuple)"
      ]
    },
    {
      "cell_type": "code",
      "execution_count": 36,
      "metadata": {
        "colab": {
          "base_uri": "https://localhost:8080/"
        },
        "id": "xhf8q0Q3-nWF",
        "outputId": "da10a338-5b87-40b1-a2df-9ebd25d99eb1"
      },
      "outputs": [
        {
          "name": "stdout",
          "output_type": "stream",
          "text": [
            "<class 'range'>\n",
            "range(0, 5)\n",
            "0\n",
            "1\n",
            "2\n",
            "3\n",
            "4\n"
          ]
        },
        {
          "data": {
            "text/plain": [
              "5"
            ]
          },
          "execution_count": 36,
          "metadata": {},
          "output_type": "execute_result"
        }
      ],
      "source": [
        "sucesion=range(5)\n",
        "print(type(sucesion))\n",
        "print(sucesion)\n",
        "print(sucesion[0])\n",
        "print(sucesion[1])\n",
        "print(sucesion[2])\n",
        "print(sucesion[3])\n",
        "print(sucesion[4])\n",
        "len(sucesion)"
      ]
    },
    {
      "cell_type": "code",
      "execution_count": 37,
      "metadata": {
        "colab": {
          "base_uri": "https://localhost:8080/"
        },
        "id": "EhQRrF9c_oGT",
        "outputId": "928fefb7-be5a-4fa2-e4dc-ea8663724fae"
      },
      "outputs": [
        {
          "name": "stdout",
          "output_type": "stream",
          "text": [
            "0\n"
          ]
        }
      ],
      "source": [
        "print(sucesion[0])"
      ]
    },
    {
      "cell_type": "code",
      "execution_count": 38,
      "metadata": {
        "colab": {
          "base_uri": "https://localhost:8080/"
        },
        "id": "7rx5X2LrKwIl",
        "outputId": "1769000b-2412-44a8-e998-797d0dd2fd84"
      },
      "outputs": [
        {
          "name": "stdout",
          "output_type": "stream",
          "text": [
            "range(3, 11, 2)\n",
            "11\n"
          ]
        }
      ],
      "source": [
        "rango = range(3,11,2)\n",
        "print(rango)\n",
        "print(rango.stop)"
      ]
    },
    {
      "cell_type": "code",
      "execution_count": 39,
      "metadata": {
        "colab": {
          "base_uri": "https://localhost:8080/"
        },
        "id": "v3WSor9lK4i4",
        "outputId": "c6295c86-a32c-4810-e4cf-bf221a93b0b3"
      },
      "outputs": [
        {
          "name": "stdout",
          "output_type": "stream",
          "text": [
            "<class 'list'>\n",
            "[3, 5, 7, 9]\n"
          ]
        }
      ],
      "source": [
        "a = list(rango) # Convierte en lista\n",
        "print(type(a))\n",
        "print(a)"
      ]
    },
    {
      "cell_type": "code",
      "execution_count": 40,
      "metadata": {
        "colab": {
          "base_uri": "https://localhost:8080/"
        },
        "id": "IBjbQFgjK9s2",
        "outputId": "1399d4ca-ffbf-45a7-9759-fe34366dd49f"
      },
      "outputs": [
        {
          "name": "stdout",
          "output_type": "stream",
          "text": [
            "False\n"
          ]
        }
      ],
      "source": [
        "propos = 0 in rango\n",
        "print(propos)"
      ]
    },
    {
      "cell_type": "code",
      "execution_count": 41,
      "metadata": {
        "colab": {
          "base_uri": "https://localhost:8080/"
        },
        "id": "OkpUC6oC_7gS",
        "outputId": "8915852e-daab-4557-8baf-c441741b67dd"
      },
      "outputs": [
        {
          "name": "stdout",
          "output_type": "stream",
          "text": [
            "range(3, 7, 2)\n",
            "3\n",
            "5\n",
            "7\n"
          ]
        }
      ],
      "source": [
        "rango=range(3,7,2)\n",
        "print(rango)\n",
        "print(rango[0])\n",
        "print(rango[1])\n",
        "#print(rango[2])\n",
        "#print(rango[3])\n",
        "print(rango.stop)\n"
      ]
    },
    {
      "cell_type": "markdown",
      "metadata": {
        "id": "YVH-JqY6LMgg"
      },
      "source": [
        "## Array\n",
        "Estructura que almacena datos del mismo tipo. Es mutable.\n",
        "Almacenan datos del mismo tipo.\n",
        "\n",
        " [referencia](https://docs.python.org/es/3/library/array.html?highlight=array#module-array)"
      ]
    },
    {
      "cell_type": "code",
      "execution_count": 55,
      "metadata": {},
      "outputs": [
        {
          "name": "stdout",
          "output_type": "stream",
          "text": [
            "array('l', [-1, 3, -3, -4, 5])\n",
            "<class 'array.array'>\n",
            "longitud de a:  5\n",
            "-1\n",
            "3\n",
            "-3\n",
            "-4\n",
            "5\n",
            "suma=  4\n"
          ]
        }
      ],
      "source": [
        "from array import array\n",
        "a = array('l',[-1, 3, -3, -4, 5])\n",
        "print(a)\n",
        "print(type(a))\n",
        "print(\"longitud de a: \",len(a))\n",
        "print(a[0])\n",
        "print(a[1])\n",
        "print(a[2])\n",
        "print(a[3])\n",
        "print(a[4])\n",
        "suma = a[0]+a[4]\n",
        "print(\"suma= \",suma)\n",
        "#b=array()"
      ]
    },
    {
      "cell_type": "code",
      "execution_count": 52,
      "metadata": {},
      "outputs": [
        {
          "data": {
            "text/plain": [
              "int"
            ]
          },
          "execution_count": 52,
          "metadata": {},
          "output_type": "execute_result"
        }
      ],
      "source": [
        "type(suma)"
      ]
    },
    {
      "cell_type": "code",
      "execution_count": null,
      "metadata": {
        "colab": {
          "base_uri": "https://localhost:8080/"
        },
        "id": "Q0CdHxazLTE1",
        "outputId": "f2b03352-161f-4ba6-e8f4-be5791408565"
      },
      "outputs": [
        {
          "name": "stdout",
          "output_type": "stream",
          "text": [
            "6\n",
            "array('l', [1, 2, 3, 4, 5])\n",
            "<class 'array.array'>\n"
          ]
        }
      ],
      "source": [
        "from array import array\n",
        "a = array('l',[1, 2, 3, 4, 5])\n",
        "type(a)\n",
        "suma = a[0]+a[4]\n",
        "print(suma)\n",
        "print(a)\n",
        "print(type(a))"
      ]
    },
    {
      "cell_type": "code",
      "execution_count": null,
      "metadata": {
        "colab": {
          "base_uri": "https://localhost:8080/"
        },
        "id": "3K9G6YetLWBf",
        "outputId": "911fb8dc-c7b0-4e09-d6ed-d71450f36339"
      },
      "outputs": [
        {
          "data": {
            "text/plain": [
              "int"
            ]
          },
          "execution_count": 71,
          "metadata": {},
          "output_type": "execute_result"
        }
      ],
      "source": [
        "type(suma)"
      ]
    },
    {
      "cell_type": "code",
      "execution_count": 53,
      "metadata": {
        "colab": {
          "base_uri": "https://localhost:8080/"
        },
        "id": "AVr0Br9JLISu",
        "outputId": "f9193164-b527-4b19-94a1-094ac2ecb7fb"
      },
      "outputs": [
        {
          "data": {
            "text/plain": [
              "array.array"
            ]
          },
          "execution_count": 53,
          "metadata": {},
          "output_type": "execute_result"
        }
      ],
      "source": [
        "import array as arr\n",
        "numbers = arr.array('i',[10,20,30])\n",
        "type(numbers)"
      ]
    },
    {
      "cell_type": "markdown",
      "metadata": {
        "id": "Iu9sPUsjLogp"
      },
      "source": [
        "## Conjunto (set)\n",
        "Estructura de datos con almacenamiento y operaciones similar al de los conjuntos matemáticos.\n",
        "[Referencia](https://www.w3schools.com/python/python_sets.asp)"
      ]
    },
    {
      "cell_type": "code",
      "execution_count": 56,
      "metadata": {
        "colab": {
          "base_uri": "https://localhost:8080/"
        },
        "id": "mzHv4xiILpNv",
        "outputId": "af7dc784-d3d8-46b8-9823-e41e59bd38c6"
      },
      "outputs": [
        {
          "name": "stdout",
          "output_type": "stream",
          "text": [
            "<class 'set'>\n",
            "{'rojo', 'verde', 'azul'}\n"
          ]
        }
      ],
      "source": [
        "A1 = {\"rojo\", \"verde\", \"azul\"}\n",
        "A2 = {\"verde\", \"negro\", \"amarillo\"}\n",
        "print(type(A1))\n",
        "print(A1)"
      ]
    },
    {
      "cell_type": "code",
      "execution_count": 59,
      "metadata": {
        "colab": {
          "base_uri": "https://localhost:8080/"
        },
        "id": "_vYnVTTULv4s",
        "outputId": "3cd85cbb-edec-44c8-c360-31b2ebdc3e00"
      },
      "outputs": [
        {
          "name": "stdout",
          "output_type": "stream",
          "text": [
            "<class 'set'>\n",
            "{'verde'}\n",
            "{'verde'}\n"
          ]
        }
      ],
      "source": [
        "A3 = A1.intersection(A2)\n",
        "A4 = A2.intersection(A1)\n",
        "print(type(A3))\n",
        "print(A3)\n",
        "print(A4)"
      ]
    },
    {
      "cell_type": "code",
      "execution_count": 67,
      "metadata": {
        "colab": {
          "base_uri": "https://localhost:8080/"
        },
        "id": "x-zTsESKLzoq",
        "outputId": "d1a204f7-73ef-4d57-985b-68f0dc47f892"
      },
      "outputs": [
        {
          "name": "stdout",
          "output_type": "stream",
          "text": [
            "{'rojo', 'azul'}\n",
            "{'rojo', 'verde', 'azul'}\n",
            "False\n"
          ]
        },
        {
          "data": {
            "text/plain": [
              "True"
            ]
          },
          "execution_count": 67,
          "metadata": {},
          "output_type": "execute_result"
        }
      ],
      "source": [
        "A5= A1.difference(A2)\n",
        "print(A5)\n",
        "A6=A1.union(A5)\n",
        "print(A6)\n",
        "respuesta=A1.isdisjoint(A2)\n",
        "print(respuesta)\n",
        "A1.__contains__(\"verde\")"
      ]
    },
    {
      "cell_type": "code",
      "execution_count": null,
      "metadata": {
        "colab": {
          "base_uri": "https://localhost:8080/"
        },
        "id": "l-rDgOg2L2K0",
        "outputId": "1acec3aa-717d-4ca3-9270-e5a547dcf55b"
      },
      "outputs": [
        {
          "data": {
            "text/plain": [
              "2"
            ]
          },
          "execution_count": 78,
          "metadata": {},
          "output_type": "execute_result"
        }
      ],
      "source": [
        "len(A4)"
      ]
    },
    {
      "cell_type": "code",
      "execution_count": 70,
      "metadata": {
        "colab": {
          "base_uri": "https://localhost:8080/"
        },
        "id": "axLBmOUsL4lN",
        "outputId": "16bf76fc-faa7-4cd6-bbca-e2f91b3f81a1"
      },
      "outputs": [
        {
          "name": "stdout",
          "output_type": "stream",
          "text": [
            "<class 'set'>\n",
            "{-23, 'hola', range(4, 7)}\n"
          ]
        }
      ],
      "source": [
        "C = set([range(4,7),\"hola\",-23])\n",
        "print(type(C))\n",
        "print(C)"
      ]
    },
    {
      "cell_type": "code",
      "execution_count": null,
      "metadata": {
        "colab": {
          "base_uri": "https://localhost:8080/"
        },
        "id": "Tm0rO-PeL8AR",
        "outputId": "a92b9c32-905c-4452-bcda-bd58b77f4b56"
      },
      "outputs": [
        {
          "name": "stdout",
          "output_type": "stream",
          "text": [
            "{True, range(2, 8, 2), (3, 7, 5), 'pepe'}\n"
          ]
        }
      ],
      "source": [
        "tupla = (3,7,5)\n",
        "sec = range(2,8,2)\n",
        "D = {\"pepe\", True, tupla, sec}\n",
        "print(D)"
      ]
    },
    {
      "cell_type": "code",
      "execution_count": null,
      "metadata": {
        "colab": {
          "base_uri": "https://localhost:8080/"
        },
        "id": "YnBnHfKIMAJX",
        "outputId": "e2cd1c1a-2bf9-4b5e-efed-c53d60a543dd"
      },
      "outputs": [
        {
          "name": "stdout",
          "output_type": "stream",
          "text": [
            "{True, 100, range(2, 8, 2), (3, 7, 5), 'pepe'}\n"
          ]
        }
      ],
      "source": [
        "D.add(100)\n",
        "print(D)"
      ]
    },
    {
      "cell_type": "code",
      "execution_count": null,
      "metadata": {
        "colab": {
          "base_uri": "https://localhost:8080/"
        },
        "id": "1yDcLVAiMGVX",
        "outputId": "b6032040-13d8-438e-f4ae-f9e52aec7ecf"
      },
      "outputs": [
        {
          "name": "stdout",
          "output_type": "stream",
          "text": [
            "True\n"
          ]
        }
      ],
      "source": [
        "prop1 = tupla in D\n",
        "print(prop1)"
      ]
    },
    {
      "cell_type": "code",
      "execution_count": null,
      "metadata": {
        "colab": {
          "base_uri": "https://localhost:8080/"
        },
        "id": "lrtVxFe9MPYQ",
        "outputId": "a4ded4d7-d05d-484b-c20c-62b60b38c2df"
      },
      "outputs": [
        {
          "name": "stdout",
          "output_type": "stream",
          "text": [
            "False\n"
          ]
        }
      ],
      "source": [
        "prop1 = tupla not in D\n",
        "print(prop1)"
      ]
    },
    {
      "cell_type": "code",
      "execution_count": 71,
      "metadata": {},
      "outputs": [
        {
          "name": "stdout",
          "output_type": "stream",
          "text": [
            "{'jorge', 'hector', 'pedro'}\n",
            "{'hector', 'pedro'}\n",
            "{'pedro'}\n",
            "set()\n",
            "{24}\n"
          ]
        }
      ],
      "source": [
        "D={\"jorge\",\"pedro\",\"juan\",\"hector\"}\n",
        "D.pop()\n",
        "print(D)\n",
        "D.pop()\n",
        "print(D)\n",
        "D.pop()\n",
        "print(D)\n",
        "D.pop()\n",
        "print(D)\n",
        "D.add(24)\n",
        "print(D)\n"
      ]
    },
    {
      "cell_type": "code",
      "execution_count": 73,
      "metadata": {},
      "outputs": [
        {
          "name": "stdout",
          "output_type": "stream",
          "text": [
            "juan\n",
            "jorge\n",
            "hector\n",
            "pedro\n"
          ]
        }
      ],
      "source": [
        "D={\"jorge\",\"pedro\",\"juan\",\"hector\"}\n",
        "for i in D:\n",
        "    print(i)\n"
      ]
    },
    {
      "cell_type": "markdown",
      "metadata": {
        "id": "jHnz7QHyMap1"
      },
      "source": [
        "## Diccionario\n",
        "Estructura de datos que almacenan datos en pares Clave-Valor(Palabra-Valor).\n",
        "[Referencia](https://www.w3schools.com/python/python_dictionaries.asp)\n",
        "\n",
        "Si podemos acceder a las entradas a diferencia de los \"SET\"."
      ]
    },
    {
      "cell_type": "code",
      "execution_count": 5,
      "metadata": {
        "colab": {
          "base_uri": "https://localhost:8080/"
        },
        "id": "XPlV1VrhMUHh",
        "outputId": "8cfb799d-9038-44dd-9689-57d91a3df5e0"
      },
      "outputs": [
        {
          "name": "stdout",
          "output_type": "stream",
          "text": [
            "<class 'dict'>\n",
            "Lima\n",
            "Buenos Aires\n"
          ]
        }
      ],
      "source": [
        "capit = {\"Perú\" : \"Lima\", \"Brasil\" : \"Brasilia\", \"Argentina\" : \"Buenos Aires\"}\n",
        "print(type(capit))\n",
        "print(capit[\"Perú\"])\n",
        "print(capit[\"Argentina\"])"
      ]
    },
    {
      "cell_type": "code",
      "execution_count": 7,
      "metadata": {
        "colab": {
          "base_uri": "https://localhost:8080/"
        },
        "id": "3A3RODlVMsQC",
        "outputId": "c14700e0-b6e7-4f87-e970-fdb010d1b223"
      },
      "outputs": [
        {
          "data": {
            "text/plain": [
              "dict_keys(['Perú', 'Brasil', 'Argentina'])"
            ]
          },
          "execution_count": 7,
          "metadata": {},
          "output_type": "execute_result"
        }
      ],
      "source": [
        "capit.keys() # metodo keys lista de claves"
      ]
    },
    {
      "cell_type": "code",
      "execution_count": null,
      "metadata": {
        "colab": {
          "base_uri": "https://localhost:8080/",
          "height": 159
        },
        "id": "o0k6kFKWMx_E",
        "outputId": "54c5ead2-272b-4281-88e4-3a84a7c5440d"
      },
      "outputs": [
        {
          "data": {
            "text/plain": [
              "dict_values(['Lima', 'Brasilia', 'Buenos Aires'])"
            ]
          },
          "execution_count": 9,
          "metadata": {},
          "output_type": "execute_result"
        }
      ],
      "source": [
        "capit.values()\n",
        "#capit.fromkeys(keys)\n"
      ]
    },
    {
      "cell_type": "code",
      "execution_count": 11,
      "metadata": {
        "colab": {
          "base_uri": "https://localhost:8080/"
        },
        "id": "Q0Spr_fTNVhO",
        "outputId": "df1f1b34-480b-408f-9ea7-50edc5719927"
      },
      "outputs": [
        {
          "name": "stdout",
          "output_type": "stream",
          "text": [
            "{'pikachu': ['choque de truenos', 'látigo de cola', 'ataque rápido'], 'charmander': ['lanzallamas', 'cara de miedo']}\n"
          ]
        }
      ],
      "source": [
        "pikachuAttacks = [\"choque de truenos\",\"látigo de cola\",\"ataque rápido\"]   # Creamos lista \n",
        "charmanderAttacks = [\"lanzallamas\", \"cara de miedo\"]                      #  Creamos lista \n",
        "chikoritaAttacks = [\"navaja\", \"veneno en polvo\"]                          # Creamos lista \n",
        "pokedex = {\"pikachu\" : pikachuAttacks, \"charmander\" : charmanderAttacks}  # Aquí estamos creando nuestro diccionario con las listas anteriores\n",
        "print(pokedex)\n",
        "# listas a diccionarios"
      ]
    },
    {
      "cell_type": "code",
      "execution_count": 13,
      "metadata": {
        "colab": {
          "base_uri": "https://localhost:8080/"
        },
        "id": "h8VwenHiNaiZ",
        "outputId": "7afda795-258a-4a0a-cbab-10b95ac5c5de"
      },
      "outputs": [
        {
          "name": "stdout",
          "output_type": "stream",
          "text": [
            "{'pikachu': ['choque de truenos', 'látigo de cola', 'ataque rápido'], 'charmander': ['lanzallamas', 'cara de miedo'], 'chikorita': ['navaja', 'veneno en polvo']}\n",
            "\n",
            "\n"
          ]
        },
        {
          "data": {
            "text/plain": [
              "dict_keys(['pikachu', 'charmander', 'chikorita'])"
            ]
          },
          "execution_count": 13,
          "metadata": {},
          "output_type": "execute_result"
        }
      ],
      "source": [
        "par = {\"chikorita\" : chikoritaAttacks}   # Faltó incluir en el diccionario anterior\n",
        "pokedex.update(par)                       # Para incluir utilizamos el método\n",
        "print(pokedex)                              # Hacemos salto de reglon con \\n\"\n",
        "print(\"\\n\")\n",
        "pokedex.keys()"
      ]
    },
    {
      "cell_type": "code",
      "execution_count": 16,
      "metadata": {
        "colab": {
          "base_uri": "https://localhost:8080/",
          "height": 35
        },
        "id": "4lgFGiaLNksK",
        "outputId": "7ef178cb-069e-4bd9-ac6e-900705e0ed0a"
      },
      "outputs": [
        {
          "data": {
            "text/plain": [
              "'ataque rápido'"
            ]
          },
          "execution_count": 16,
          "metadata": {},
          "output_type": "execute_result"
        }
      ],
      "source": [
        "pokedex[\"pikachu\"][0]     # Acedemos al primer atraque de pikachu  \n",
        "pokedex[\"pikachu\"][1]\n",
        "pokedex[\"pikachu\"][2]\n",
        "\n",
        "# Recordar los dos softward de matematica númerica y matematica simbolica "
      ]
    },
    {
      "cell_type": "markdown",
      "metadata": {
        "id": "7-Xr5SjtN14W"
      },
      "source": [
        "##Python es OO\n",
        "**Identidad, tipo y valor** [enlace](https://ellibrodepython.com/mutabilidad-python)"
      ]
    },
    {
      "cell_type": "code",
      "execution_count": null,
      "metadata": {
        "colab": {
          "base_uri": "https://localhost:8080/"
        },
        "id": "vVNZiU6JNuGv",
        "outputId": "1ea3dc95-726c-4d26-cf8d-f21ae4361b26"
      },
      "outputs": [
        {
          "name": "stdout",
          "output_type": "stream",
          "text": [
            "10545504\n",
            "10545472\n"
          ]
        }
      ],
      "source": [
        "x = True\n",
        "print(id(x))\n",
        "x = False\n",
        "print(id(x))"
      ]
    },
    {
      "cell_type": "markdown",
      "metadata": {
        "id": "jf-AQ7JwOC3U"
      },
      "source": [
        "# Librería numpy\n",
        "Da soporte para crear vectores y matrices multidimensionales grandes, contiene una gran colección de funciones matemáticas de alto nivel para operar con ellas.\n",
        "\n",
        "<img src=\"https://aprendeconalf.es/docencia/python/manual/img/numpy-logo.png\">"
      ]
    },
    {
      "cell_type": "markdown",
      "metadata": {
        "id": "_NdNv9AoOYeg"
      },
      "source": [
        "## Clase ndarray\n",
        "Contiene las estructuras de datos para almacenar las arreglos multidimensionales de datos homogéneos (todos los elementos de una matriz que tienen el mismo tipo de dato).\n",
        "[Referencia](https://numpy.org/doc/stable/reference/generated/numpy.array.html)\n",
        "\n",
        "metodo es una funcion tiene parentisis\n",
        "Atritibuto  es una caracteristica no usa parentesis"
      ]
    },
    {
      "cell_type": "code",
      "execution_count": null,
      "metadata": {
        "colab": {
          "base_uri": "https://localhost:8080/"
        },
        "id": "PurCXATDOdb9",
        "outputId": "a94b75aa-d9b1-4750-8d20-4ff7e8bd843f"
      },
      "outputs": [
        {
          "name": "stdout",
          "output_type": "stream",
          "text": [
            "<class 'numpy.ndarray'>\n",
            "[1 2 3]\n",
            "int64\n"
          ]
        }
      ],
      "source": [
        "import numpy as np              # \"np\" este es un sobre nombre podemos poner lo que queramos\n",
        "mat1 = np.array([1,2,3])\n",
        "print(type(mat1))\n",
        "print(mat1)\n",
        "print(mat1.dtype)               # Imprime los tipo de datos\n",
        "                                 # Para que corra este bloke debemos instalar numpy (ponemos esto en la terminal: \"Pip install numpy\")\n",
        "                                 "
      ]
    },
    {
      "cell_type": "code",
      "execution_count": null,
      "metadata": {
        "colab": {
          "base_uri": "https://localhost:8080/"
        },
        "id": "ZTIGJpa7Onbw",
        "outputId": "e5fccadd-82d1-428b-a9b0-f7e5681a408e"
      },
      "outputs": [
        {
          "name": "stdout",
          "output_type": "stream",
          "text": [
            "[[1 2 3]\n",
            " [4 5 6]]\n",
            "(2, 3)\n",
            "48\n",
            "6\n"
          ]
        }
      ],
      "source": [
        "mat2 = np.array([[1,2,3],[4,5,6]])   # array es el constructor lista de lista para formar una matriz\n",
        "print(mat2)            # Formamos nuestra matriz\n",
        "print(mat2.shape)     # atributo , numero de filas y columnas\n",
        "print(mat2.nbytes)   # para ver cuantos bytes\n",
        "print(mat2.max())     # max() es un metodo\n",
        "                       # la ventaje de un arreglo es que se pueden crear vacios\n",
        "                       # La tuplas son inmutables es decir in modificable\n",
        "                    "
      ]
    },
    {
      "cell_type": "markdown",
      "metadata": {
        "id": "l7MhLoijPpWC"
      },
      "source": [
        "##Acceso a las entradas de una matriz"
      ]
    },
    {
      "cell_type": "code",
      "execution_count": 34,
      "metadata": {
        "colab": {
          "base_uri": "https://localhost:8080/"
        },
        "id": "GVBhWsKWOr1x",
        "outputId": "ab90b2c4-1058-47ff-c36d-55e7ba79b8fb"
      },
      "outputs": [
        {
          "data": {
            "text/plain": [
              "np.int64(20)"
            ]
          },
          "execution_count": 34,
          "metadata": {},
          "output_type": "execute_result"
        }
      ],
      "source": [
        "(mat2[0,0]+mat2[0,2])*mat2[1,1] # operación con algunas entradas de la matriz mat2"
      ]
    },
    {
      "cell_type": "code",
      "execution_count": 35,
      "metadata": {},
      "outputs": [
        {
          "data": {
            "text/plain": [
              "np.int64(40)"
            ]
          },
          "execution_count": 35,
          "metadata": {},
          "output_type": "execute_result"
        }
      ],
      "source": [
        "(mat2[1,1]+mat2[0,2])*mat2[1,1]"
      ]
    },
    {
      "cell_type": "code",
      "execution_count": 83,
      "metadata": {},
      "outputs": [
        {
          "name": "stdout",
          "output_type": "stream",
          "text": [
            "[[ 1.  2.  3.]\n",
            " [ 0.  6.  7.]\n",
            " [ 0.  0. 10.]]\n",
            "[[ 1.  0.  0.]\n",
            " [ 2.  6.  0.]\n",
            " [ 3.  7. 10.]]\n",
            "17.0\n",
            "[ 1.  6. 10.]\n"
          ]
        },
        {
          "ename": "IndexError",
          "evalue": "too many indices for array: array is 1-dimensional, but 2 were indexed",
          "output_type": "error",
          "traceback": [
            "\u001b[31m---------------------------------------------------------------------------\u001b[39m",
            "\u001b[31mIndexError\u001b[39m                                Traceback (most recent call last)",
            "\u001b[36mCell\u001b[39m\u001b[36m \u001b[39m\u001b[32mIn[83]\u001b[39m\u001b[32m, line 13\u001b[39m\n\u001b[32m     10\u001b[39m diagon=matriz.diagonal()\n\u001b[32m     11\u001b[39m \u001b[38;5;28mprint\u001b[39m(diagon)\n\u001b[32m---> \u001b[39m\u001b[32m13\u001b[39m \u001b[43mdiagon\u001b[49m\u001b[43m[\u001b[49m\u001b[32;43m0\u001b[39;49m\u001b[43m,\u001b[49m\u001b[32;43m0\u001b[39;49m\u001b[43m]\u001b[49m\n\u001b[32m     15\u001b[39m \u001b[38;5;66;03m#diagon(1,1)\u001b[39;00m\n\u001b[32m     16\u001b[39m \u001b[38;5;66;03m#print(deter)\u001b[39;00m\n",
            "\u001b[31mIndexError\u001b[39m: too many indices for array: array is 1-dimensional, but 2 were indexed"
          ]
        }
      ],
      "source": [
        "matriz=np.array([[1.,2.,3.],[0,6.,7.],[0,0,10.]])\n",
        "print (matriz)\n",
        "\n",
        "Transpuesta=matriz.T\n",
        "print(Transpuesta)\n",
        "\n",
        "Traza=matriz.trace()\n",
        "print(Traza)\n",
        "\n",
        "diagon=matriz.diagonal()\n",
        "print(diagon)\n",
        "\n",
        "diagon[0,0]\n",
        "\n",
        "#diagon(1,1)\n",
        "#print(deter)\n",
        "\n"
      ]
    },
    {
      "cell_type": "code",
      "execution_count": 59,
      "metadata": {},
      "outputs": [
        {
          "name": "stdout",
          "output_type": "stream",
          "text": [
            "[[0 1 8]\n",
            " [1 0 1]\n",
            " [0 2 5]]\n",
            "[[0 1 0]\n",
            " [1 0 1]\n",
            " [0 2 0]]\n",
            "[[0 2 8]\n",
            " [2 0 2]\n",
            " [0 4 5]]\n"
          ]
        }
      ],
      "source": [
        "matriz1=np.array([[0,1,8],[1,0,1],[0,2,5]])\n",
        "print(matriz1)\n",
        "\n",
        "matriz2=np.array([[0,1,0],[1,0,1],[0,2,0]])\n",
        "print(matriz2)\n",
        "\n",
        "sumaa=matriz1+matriz2\n",
        "print(sumaa)"
      ]
    },
    {
      "cell_type": "code",
      "execution_count": null,
      "metadata": {},
      "outputs": [],
      "source": []
    },
    {
      "cell_type": "code",
      "execution_count": 84,
      "metadata": {},
      "outputs": [
        {
          "name": "stdout",
          "output_type": "stream",
          "text": [
            "[[0 2 8]\n",
            " [2 0 2]\n",
            " [0 4 5]]\n"
          ]
        }
      ],
      "source": [
        "matrizsum=matriz1+matriz2\n",
        "print(matrizsum)"
      ]
    },
    {
      "cell_type": "code",
      "execution_count": null,
      "metadata": {},
      "outputs": [
        {
          "name": "stdout",
          "output_type": "stream",
          "text": [
            "[[0. 0. 0.]\n",
            " [0. 0. 0.]]\n",
            "[1. 1. 1. 1.]\n",
            "[  0.  25.  50.  75. 100.]\n"
          ]
        }
      ],
      "source": [
        "x=np.zeros((2,3))\n",
        "print(x)\n",
        "\n",
        "y=np.ones(4)\n",
        "print(y)\n",
        "\n",
        "\n",
        "z=np.linspace(0, 100.0, 5)\n",
        "print(z)\n",
        "\n",
        "np.linspace(0, 100.0, 5)"
      ]
    },
    {
      "cell_type": "markdown",
      "metadata": {
        "id": "pmK1oPjdOyT8"
      },
      "source": [
        "```\n",
        "# Tiene formato de código\n",
        "```\n",
        "\n",
        "##Atributos básicos de la clase ndarray\n",
        "Un atributo de una clase, es una información referente al objeto creado en base dicha clase (instancia de una clase)."
      ]
    },
    {
      "cell_type": "markdown",
      "metadata": {
        "id": "0q_Xr_nOP8Z1"
      },
      "source": [
        "Atributo   |      Descripción\n",
        "-----------|------------------------------------------------------------------\n",
        "Shape      |Tupla que contiene el número de elementos en cada eje de la matriz.\n",
        "Size       |Número total de elementos en la matriz.\n",
        "nbytes     |Número de bytes utilizados para almacenar los datos.\n",
        "dtype      |Tipo de dato de los elementos en la matriz."
      ]
    },
    {
      "cell_type": "code",
      "execution_count": null,
      "metadata": {
        "id": "EypCOFLzQASd"
      },
      "outputs": [],
      "source": []
    },
    {
      "cell_type": "markdown",
      "metadata": {
        "id": "aXP4XqsbQMgh"
      },
      "source": [
        "<img src=\"https://predictivehacks.com/wp-content/uploads/2020/08/numpy_arrays-1024x572.png\">"
      ]
    },
    {
      "cell_type": "code",
      "execution_count": null,
      "metadata": {
        "colab": {
          "base_uri": "https://localhost:8080/"
        },
        "id": "FA_f_dkdQOBu",
        "outputId": "675f3a14-b23e-4195-cb18-b06836fbf679"
      },
      "outputs": [
        {
          "name": "stdout",
          "output_type": "stream",
          "text": [
            "<class 'numpy.ndarray'>\n",
            "[[1.  2.5]\n",
            " [5.  5. ]\n",
            " [5.  8. ]]\n"
          ]
        }
      ],
      "source": [
        "matriz = np.array([[1, 2.5], [5, 5], [5, 8]])\n",
        "print(type(matriz))\n",
        "print(matriz)"
      ]
    },
    {
      "cell_type": "code",
      "execution_count": null,
      "metadata": {
        "colab": {
          "base_uri": "https://localhost:8080/"
        },
        "id": "SlxxP9YuQT_u",
        "outputId": "b0af1399-bce3-4581-c29b-4fbb1e0fc978"
      },
      "outputs": [
        {
          "data": {
            "text/plain": [
              "(3, 2)"
            ]
          },
          "execution_count": 106,
          "metadata": {},
          "output_type": "execute_result"
        }
      ],
      "source": [
        "matriz.shape"
      ]
    },
    {
      "cell_type": "code",
      "execution_count": null,
      "metadata": {
        "colab": {
          "base_uri": "https://localhost:8080/"
        },
        "id": "dBdKy3P3QXgu",
        "outputId": "88fed030-7281-47e6-9ca4-c131b310a8f1"
      },
      "outputs": [
        {
          "name": "stdout",
          "output_type": "stream",
          "text": [
            "[1 2]\n",
            "8.0\n",
            "posición de la mayor entrada: (np.int64(2), np.int64(1))\n"
          ]
        }
      ],
      "source": [
        "matriz.size\n",
        "print(matriz.argmax(axis=0))\n",
        "print(np.max(matriz))\n",
        "ind = np.unravel_index(np.argmax(matriz, axis=None), matriz.shape)\n",
        "print(\"posición de la mayor entrada:\",ind)"
      ]
    },
    {
      "cell_type": "code",
      "execution_count": null,
      "metadata": {
        "colab": {
          "base_uri": "https://localhost:8080/"
        },
        "id": "ferVv09RQagR",
        "outputId": "957439a0-4496-4d47-e3fc-f50004d811a9"
      },
      "outputs": [
        {
          "name": "stdout",
          "output_type": "stream",
          "text": [
            "float64\n"
          ]
        }
      ],
      "source": [
        "print(matriz.dtype)"
      ]
    },
    {
      "cell_type": "code",
      "execution_count": null,
      "metadata": {
        "colab": {
          "base_uri": "https://localhost:8080/"
        },
        "id": "tvUrItOZQeca",
        "outputId": "30f65b57-b913-4eaf-d098-64716949c819"
      },
      "outputs": [
        {
          "name": "stdout",
          "output_type": "stream",
          "text": [
            "48\n"
          ]
        }
      ],
      "source": [
        "print(matriz.nbytes)"
      ]
    },
    {
      "cell_type": "code",
      "execution_count": null,
      "metadata": {
        "id": "_0qnLddEQh9S"
      },
      "outputs": [],
      "source": []
    },
    {
      "cell_type": "markdown",
      "metadata": {
        "id": "2usNwXYJQlX6"
      },
      "source": [
        "#Miscelanea sobre construcción de matrices en numpy"
      ]
    },
    {
      "cell_type": "code",
      "execution_count": null,
      "metadata": {
        "colab": {
          "base_uri": "https://localhost:8080/"
        },
        "id": "y2UuowEoQl6_",
        "outputId": "99a13c6b-816c-4667-f4b1-5e3d0897de9c"
      },
      "outputs": [
        {
          "name": "stdout",
          "output_type": "stream",
          "text": [
            "[[0 0 0]\n",
            " [0 0 0]]\n"
          ]
        }
      ],
      "source": [
        "mat1 = np.zeros((2,3), dtype=np.int32)\n",
        "print(mat1)"
      ]
    },
    {
      "cell_type": "code",
      "execution_count": null,
      "metadata": {
        "colab": {
          "base_uri": "https://localhost:8080/"
        },
        "id": "Mlg-0xavQqNb",
        "outputId": "baa804f6-0057-4f53-a6ed-b55239040b6f"
      },
      "outputs": [
        {
          "name": "stdout",
          "output_type": "stream",
          "text": [
            "[1. 1. 1.]\n"
          ]
        }
      ],
      "source": [
        "mat2 = np.ones(3,dtype = np.float32)\n",
        "print(mat2)"
      ]
    },
    {
      "cell_type": "code",
      "execution_count": null,
      "metadata": {
        "colab": {
          "base_uri": "https://localhost:8080/"
        },
        "id": "aqT5q3_OQs9X",
        "outputId": "029ecd09-cdef-41b4-a22d-16c28bc835b2"
      },
      "outputs": [
        {
          "name": "stdout",
          "output_type": "stream",
          "text": [
            "[[17. 17.]\n",
            " [17. 17.]\n",
            " [17. 17.]]\n"
          ]
        }
      ],
      "source": [
        "mat3 = 17*np.ones((3,2))\n",
        "print(mat3)"
      ]
    },
    {
      "cell_type": "code",
      "execution_count": null,
      "metadata": {
        "colab": {
          "base_uri": "https://localhost:8080/"
        },
        "id": "6KCANQoXQvXX",
        "outputId": "fc7a0165-bc6c-4b59-cad6-1e157a07ed15"
      },
      "outputs": [
        {
          "name": "stdout",
          "output_type": "stream",
          "text": [
            "[[29661]\n",
            " [14476]\n",
            " [    0]]\n"
          ]
        }
      ],
      "source": [
        "mat4 = np.empty((3,1), dtype=np.int16)\n",
        "print(mat4)"
      ]
    },
    {
      "cell_type": "code",
      "execution_count": null,
      "metadata": {
        "colab": {
          "base_uri": "https://localhost:8080/"
        },
        "id": "0hoY_jCeQxZd",
        "outputId": "e2e009c9-4906-4ffd-fdd0-ecfe464fb449"
      },
      "outputs": [
        {
          "name": "stdout",
          "output_type": "stream",
          "text": [
            "[[5000]\n",
            " [5000]\n",
            " [5000]]\n"
          ]
        }
      ],
      "source": [
        "mat4.fill(5000)\n",
        "print(mat4)"
      ]
    },
    {
      "cell_type": "markdown",
      "metadata": {
        "id": "6z7WjysbRMGr"
      },
      "source": [
        "<img src=\"https://miro.medium.com/max/1400/1*XDBcGPOkqTGd5C7DuRrAiw.png\">"
      ]
    },
    {
      "cell_type": "code",
      "execution_count": null,
      "metadata": {
        "colab": {
          "base_uri": "https://localhost:8080/"
        },
        "id": "1F3HTWBlQ8qp",
        "outputId": "93835d45-a5eb-48a2-f9fd-61e6c04259c3"
      },
      "outputs": [
        {
          "name": "stdout",
          "output_type": "stream",
          "text": [
            "[[5 5]\n",
            " [5 5]\n",
            " [5 5]]\n",
            "[[1 0 0 0]\n",
            " [0 1 0 0]\n",
            " [0 0 1 0]\n",
            " [0 0 0 1]]\n",
            "[[2.23606798 0.         0.         0.        ]\n",
            " [0.         2.23606798 0.         0.        ]\n",
            " [0.         0.         2.23606798 0.        ]\n",
            " [0.         0.         0.         2.23606798]]\n"
          ]
        }
      ],
      "source": [
        "mat5 = np.full((3,2),5,dtype=np.int8)\n",
        "print(mat5)\n",
        "id = np.eye(4,dtype=np.int32)\n",
        "print(id)\n",
        "A = np.sqrt(5)*id\n",
        "print(A)"
      ]
    },
    {
      "cell_type": "code",
      "execution_count": null,
      "metadata": {
        "colab": {
          "base_uri": "https://localhost:8080/"
        },
        "id": "bQvmHDu-RRlP",
        "outputId": "3cd64bec-3fe7-4dcd-db30-f9913cd27fa1"
      },
      "outputs": [
        {
          "name": "stdout",
          "output_type": "stream",
          "text": [
            "<class 'numpy.int8'>\n",
            "-10\n"
          ]
        }
      ],
      "source": [
        "mat5[0,1] = -10\n",
        "print(type(mat5[0,1]))\n",
        "print(mat5[0,1])"
      ]
    },
    {
      "cell_type": "code",
      "execution_count": null,
      "metadata": {
        "colab": {
          "base_uri": "https://localhost:8080/"
        },
        "id": "bvWgOcLORVwq",
        "outputId": "bb8abbc8-b1fa-4a1a-fb44-a71f3832e67c"
      },
      "outputs": [
        {
          "name": "stdout",
          "output_type": "stream",
          "text": [
            "[ 2  4  6  8 10]\n"
          ]
        }
      ],
      "source": [
        "mat6 = np.arange(2,12,2)\n",
        "print(mat6)"
      ]
    },
    {
      "cell_type": "code",
      "execution_count": null,
      "metadata": {
        "colab": {
          "base_uri": "https://localhost:8080/"
        },
        "id": "bT4B55BVRZqx",
        "outputId": "5cebc139-46b6-42e0-b987-e33e48e21288"
      },
      "outputs": [
        {
          "name": "stdout",
          "output_type": "stream",
          "text": [
            "[ 1.     2.285  3.572  4.855  6.145  7.43   8.71  10.   ]\n"
          ]
        }
      ],
      "source": [
        "mat7 = np.linspace(1,10,8,dtype=np.float16)\n",
        "print(mat7)"
      ]
    },
    {
      "cell_type": "code",
      "execution_count": 6,
      "metadata": {
        "colab": {
          "base_uri": "https://localhost:8080/",
          "height": 466
        },
        "id": "7S8WdoG0Rd5V",
        "outputId": "fb984e6c-c519-4f12-f23d-928a7e13d195"
      },
      "outputs": [
        {
          "data": {
            "text/plain": [
              "Text(0.5, 0, 'Eje x')"
            ]
          },
          "execution_count": 6,
          "metadata": {},
          "output_type": "execute_result"
        },
        {
          "data": {
            "image/png": "[encoded data removed]",
            "text/plain": [
              "<Figure size 640x480 with 1 Axes>"
            ]
          },
          "metadata": {},
          "output_type": "display_data"
        }
      ],
      "source": [
        "import matplotlib.pyplot as plt\n",
        "import numpy as np\n",
        "plt.plot([0,1,2,3,4],[1, 4, 9, 16, 25], marker='o',color='green',linestyle='dashed')\n",
        "plt.ylabel('Eje y')\n",
        "plt.xlabel('Eje x')\n",
        "#plt.show()"
      ]
    },
    {
      "cell_type": "code",
      "execution_count": null,
      "metadata": {
        "id": "lPsp_3FxRhYO"
      },
      "outputs": [],
      "source": [
        "x = np.linspace(-5,5,100)  # genera un vector de 100 números\n",
        "##print(x)"
      ]
    },
    {
      "cell_type": "code",
      "execution_count": null,
      "metadata": {
        "id": "cvNqsY9FRmk6"
      },
      "outputs": [],
      "source": [
        "y = np.power(x,2)\n",
        "#print(y)"
      ]
    },
    {
      "cell_type": "code",
      "execution_count": null,
      "metadata": {
        "colab": {
          "base_uri": "https://localhost:8080/",
          "height": 447
        },
        "id": "ZjPGPXG7RqCT",
        "outputId": "85c4aff5-0216-4b47-f697-cb07e5675d1c"
      },
      "outputs": [
        {
          "data": {
            "text/plain": [
              "[<matplotlib.lines.Line2D at 0x7fcc490d1c70>]"
            ]
          },
          "execution_count": 126,
          "metadata": {},
          "output_type": "execute_result"
        },
        {
          "data": {
            "image/png": "[encoded data removed]",
            "text/plain": [
              "<Figure size 640x480 with 1 Axes>"
            ]
          },
          "metadata": {},
          "output_type": "display_data"
        }
      ],
      "source": [
        "plt.plot(x,y)"
      ]
    },
    {
      "cell_type": "code",
      "execution_count": 10,
      "metadata": {},
      "outputs": [
        {
          "data": {
            "text/plain": [
              "[<matplotlib.lines.Line2D at 0x17b6658de50>]"
            ]
          },
          "execution_count": 10,
          "metadata": {},
          "output_type": "execute_result"
        },
        {
          "data": {
            "image/png": "[encoded data removed]",
            "text/plain": [
              "<Figure size 640x480 with 1 Axes>"
            ]
          },
          "metadata": {},
          "output_type": "display_data"
        }
      ],
      "source": [
        "x = np.linspace(-5,5,10)\n",
        "y = np.power(x,2)\n",
        "plt.plot(x,y, marker='o',color='green',linestyle='none')"
      ]
    },
    {
      "cell_type": "code",
      "execution_count": null,
      "metadata": {
        "id": "p1aXtaEzRs_a"
      },
      "outputs": [],
      "source": [
        "a = np.array([1,2,3])\n",
        "b = np.array([4,5])"
      ]
    },
    {
      "cell_type": "code",
      "execution_count": null,
      "metadata": {
        "colab": {
          "base_uri": "https://localhost:8080/"
        },
        "id": "Nz4vvy0jRxoi",
        "outputId": "c6f467c9-e879-45c5-e073-a8db911c4cfb"
      },
      "outputs": [
        {
          "name": "stdout",
          "output_type": "stream",
          "text": [
            "[[1 2 3]\n",
            " [1 2 3]]\n",
            "[[4 4 4]\n",
            " [5 5 5]]\n"
          ]
        }
      ],
      "source": [
        "A, B = np.meshgrid(a,b)\n",
        "print(A)\n",
        "print(B)"
      ]
    },
    {
      "cell_type": "code",
      "execution_count": null,
      "metadata": {
        "colab": {
          "base_uri": "https://localhost:8080/"
        },
        "id": "eTBQbg5zR0iJ",
        "outputId": "b13a1e17-0bb0-4187-8ec2-b23ba36a839e"
      },
      "outputs": [
        {
          "name": "stdout",
          "output_type": "stream",
          "text": [
            "[[17 20 25]\n",
            " [26 29 34]]\n"
          ]
        }
      ],
      "source": [
        "C = np.power(A,2)+np.power(B,2)\n",
        "print(C)"
      ]
    },
    {
      "cell_type": "code",
      "execution_count": null,
      "metadata": {
        "id": "Od1HFQIhR3Wy"
      },
      "outputs": [],
      "source": [
        "x = np.linspace(-1,1,50)\n",
        "y = np.linspace(-1,1, 50)"
      ]
    },
    {
      "cell_type": "code",
      "execution_count": null,
      "metadata": {
        "id": "dHcde4cHR79n"
      },
      "outputs": [],
      "source": [
        "X, Y = np.meshgrid(x,y)"
      ]
    },
    {
      "cell_type": "code",
      "execution_count": null,
      "metadata": {
        "colab": {
          "base_uri": "https://localhost:8080/"
        },
        "id": "fc7wDo14R93X",
        "outputId": "6a6ee6d6-eb7a-4bdb-99b9-394bef3c4f42"
      },
      "outputs": [
        {
          "name": "stdout",
          "output_type": "stream",
          "text": [
            "[[ 0.00000000e+00 -7.99666805e-02 -1.56601416e-01 ... -1.56601416e-01\n",
            "  -7.99666805e-02  0.00000000e+00]\n",
            " [ 7.99666805e-02  0.00000000e+00 -7.66347355e-02 ... -7.66347355e-02\n",
            "   0.00000000e+00  7.99666805e-02]\n",
            " [ 1.56601416e-01  7.66347355e-02  0.00000000e+00 ... -2.22044605e-16\n",
            "   7.66347355e-02  1.56601416e-01]\n",
            " ...\n",
            " [ 1.56601416e-01  7.66347355e-02  2.22044605e-16 ...  0.00000000e+00\n",
            "   7.66347355e-02  1.56601416e-01]\n",
            " [ 7.99666805e-02  0.00000000e+00 -7.66347355e-02 ... -7.66347355e-02\n",
            "   0.00000000e+00  7.99666805e-02]\n",
            " [ 0.00000000e+00 -7.99666805e-02 -1.56601416e-01 ... -1.56601416e-01\n",
            "  -7.99666805e-02  0.00000000e+00]]\n"
          ]
        }
      ],
      "source": [
        "Z = np.power(X,2)-np.power(Y,2)\n",
        "print(Z)"
      ]
    },
    {
      "cell_type": "code",
      "execution_count": null,
      "metadata": {
        "colab": {
          "base_uri": "https://localhost:8080/",
          "height": 432
        },
        "id": "WWA2GkcbSAvG",
        "outputId": "2f1ddcac-44ae-4b7d-b241-67de8f8c551d"
      },
      "outputs": [
        {
          "data": {
            "text/plain": [
              "<mpl_toolkits.mplot3d.art3d.Poly3DCollection at 0x7fcc490ed910>"
            ]
          },
          "execution_count": 133,
          "metadata": {},
          "output_type": "execute_result"
        },
        {
          "data": {
            "image/png": "[encoded data removed]",
            "text/plain": [
              "<Figure size 640x480 with 1 Axes>"
            ]
          },
          "metadata": {},
          "output_type": "display_data"
        }
      ],
      "source": [
        "ax = plt.axes(projection='3d')\n",
        "ax.plot_surface(X, Y, Z, rstride=1, cstride=1, cmap='viridis', edgecolor='none')"
      ]
    },
    {
      "cell_type": "code",
      "execution_count": null,
      "metadata": {
        "colab": {
          "base_uri": "https://localhost:8080/",
          "height": 432
        },
        "id": "oQISYryBSFnC",
        "outputId": "22ab3d3f-1664-443c-c87f-8dcf31f63526"
      },
      "outputs": [
        {
          "data": {
            "text/plain": [
              "<mpl_toolkits.mplot3d.art3d.Poly3DCollection at 0x7fcc48d2bcb0>"
            ]
          },
          "execution_count": 134,
          "metadata": {},
          "output_type": "execute_result"
        },
        {
          "data": {
            "image/png": "[encoded data removed]",
            "text/plain": [
              "<Figure size 640x480 with 1 Axes>"
            ]
          },
          "metadata": {},
          "output_type": "display_data"
        }
      ],
      "source": [
        "x = np.linspace(0,2,100)\n",
        "y = np.linspace(-2,2,100)\n",
        "X,Y = np.meshgrid(x,y)\n",
        "Z = np.power(X,2)+np.power(Y,2)\n",
        "ax = plt.axes(projection='3d')\n",
        "ax.plot_surface(X, Y, Z)"
      ]
    },
    {
      "cell_type": "code",
      "execution_count": null,
      "metadata": {
        "colab": {
          "base_uri": "https://localhost:8080/"
        },
        "id": "KF2nAp9oSNFv",
        "outputId": "06a55b2a-90ab-45d6-9998-3e93dc4c1de2"
      },
      "outputs": [
        {
          "name": "stdout",
          "output_type": "stream",
          "text": [
            "[[-0.80522156  1.63683629  7.72653115]\n",
            " [-4.05342654  8.05879791 -3.72853334]]\n"
          ]
        }
      ],
      "source": [
        "randvect = 10-20*np.random.rand(2,3)\n",
        "print(randvect)"
      ]
    },
    {
      "cell_type": "code",
      "execution_count": null,
      "metadata": {
        "colab": {
          "base_uri": "https://localhost:8080/"
        },
        "id": "h0t5bdplSR6U",
        "outputId": "92cdef12-2fc5-4d44-af47-8c59b53967b8"
      },
      "outputs": [
        {
          "name": "stdout",
          "output_type": "stream",
          "text": [
            "[[4 8 2]\n",
            " [4 6 6]]\n"
          ]
        }
      ],
      "source": [
        "randmat1 = np.random.randint(10,size = (2,3))\n",
        "print(randmat1)"
      ]
    },
    {
      "cell_type": "code",
      "execution_count": null,
      "metadata": {
        "colab": {
          "base_uri": "https://localhost:8080/"
        },
        "id": "iUGZ3RN5SVkS",
        "outputId": "2e893b7f-f9e4-4fc3-f129-1a67a6ae99cb"
      },
      "outputs": [
        {
          "name": "stdout",
          "output_type": "stream",
          "text": [
            "[[7 4 4]\n",
            " [7 8 9]]\n"
          ]
        }
      ],
      "source": [
        "randmat2 = np.random.randint(10,size = (2,3))\n",
        "print(randmat2)"
      ]
    },
    {
      "cell_type": "code",
      "execution_count": null,
      "metadata": {
        "colab": {
          "base_uri": "https://localhost:8080/"
        },
        "id": "TC1BYkIvSYB1",
        "outputId": "4418a733-f328-434b-d1ee-650282b6fb24"
      },
      "outputs": [
        {
          "name": "stdout",
          "output_type": "stream",
          "text": [
            "[[11 12  6]\n",
            " [11 14 15]]\n"
          ]
        }
      ],
      "source": [
        "matsum = randmat1+randmat2\n",
        "print(matsum)"
      ]
    },
    {
      "cell_type": "code",
      "execution_count": null,
      "metadata": {
        "colab": {
          "base_uri": "https://localhost:8080/"
        },
        "id": "GTiPwJjJShw5",
        "outputId": "e516884b-b4d7-48f9-d45d-8aaa5abdf1d2"
      },
      "outputs": [
        {
          "name": "stdout",
          "output_type": "stream",
          "text": [
            "[[5 8]\n",
            " [7 1]]\n"
          ]
        }
      ],
      "source": [
        "randmat3 = np.random.randint(10,size=(2,2))\n",
        "print(randmat3)"
      ]
    },
    {
      "cell_type": "code",
      "execution_count": null,
      "metadata": {
        "colab": {
          "base_uri": "https://localhost:8080/"
        },
        "id": "zkg6o5V_Sn1T",
        "outputId": "e5f7eaf4-6654-4800-dcb6-b1d84469eb3b"
      },
      "outputs": [
        {
          "name": "stdout",
          "output_type": "stream",
          "text": [
            "[[0 0]\n",
            " [6 0]]\n"
          ]
        }
      ],
      "source": [
        "randmat4 = np.random.randint(10,size=(2,2))\n",
        "print(randmat4)"
      ]
    },
    {
      "cell_type": "code",
      "execution_count": null,
      "metadata": {
        "colab": {
          "base_uri": "https://localhost:8080/"
        },
        "id": "vp0NWfPeSrNW",
        "outputId": "76212d53-db29-4d03-edbf-6e428a40be4a"
      },
      "outputs": [
        {
          "name": "stdout",
          "output_type": "stream",
          "text": [
            "[[48  0]\n",
            " [ 6  0]]\n"
          ]
        }
      ],
      "source": [
        "matprod = np.dot(randmat3,randmat4)\n",
        "print(matprod)"
      ]
    },
    {
      "cell_type": "code",
      "execution_count": null,
      "metadata": {
        "colab": {
          "base_uri": "https://localhost:8080/"
        },
        "id": "DfTwh0QvSuq0",
        "outputId": "49908f6d-a7bc-4705-e367-1783036066ba"
      },
      "outputs": [
        {
          "name": "stdout",
          "output_type": "stream",
          "text": [
            "[[81 48]\n",
            " [42 57]]\n"
          ]
        }
      ],
      "source": [
        "matpow = np.linalg.matrix_power(randmat3,2)\n",
        "print(matpow)"
      ]
    },
    {
      "cell_type": "code",
      "execution_count": null,
      "metadata": {
        "colab": {
          "base_uri": "https://localhost:8080/",
          "height": 745
        },
        "id": "AL9Vy8oxSyMz",
        "outputId": "cb6d3786-602b-4a91-cb9d-83b5080263a2"
      },
      "outputs": [
        {
          "data": {
            "image/png": "[encoded data removed]",
            "text/plain": [
              "<Figure size 400x800 with 2 Axes>"
            ]
          },
          "metadata": {},
          "output_type": "display_data"
        }
      ],
      "source": [
        "import matplotlib.pyplot as plt\n",
        "import numpy as np\n",
        "\n",
        "def f(t):\n",
        "    return np.cos(2*np.pi*t) * np.exp(-t)\n",
        "\n",
        "# Set up a figure twice as tall as it is wide\n",
        "fig = plt.figure(figsize=plt.figaspect(2.)) # la altura es el doble del ancho\n",
        "fig.suptitle('Oscilación amortiguada')\n",
        "\n",
        "# First subplot\n",
        "ax = fig.add_subplot(2, 1, 1)\n",
        "\n",
        "#t1 = np.arange(0.0, 5.0, 0.1)\n",
        "t1 = np.linspace(0,np.pi,100)\n",
        "t2 = np.arange(0.0, 5.0, 0.02)\n",
        "\n",
        "ax.plot(t1, f(t1), 'ro',t2, f(t2), 'k--', markerfacecolor='green')\n",
        "ax.grid(True) # activar cuadrícula\n",
        "ax.set_ylabel('Altura')\n",
        "ax.set_xlabel('Tiempo')\n",
        "\n",
        "# Second subplot\n",
        "ax = fig.add_subplot(2, 1, 2, projection='3d')\n",
        "\n",
        "X = np.arange(-5, 5, 0.25)\n",
        "Y = np.arange(-5, 5, 0.25)\n",
        "\n",
        "X, Y = np.meshgrid(X, Y)\n",
        "R = np.sqrt(X**2 + Y**2)\n",
        "Z = np.sin(R)\n",
        "\n",
        "surf = ax.plot_surface(X, Y, Z, rstride=1, cstride=1,\n",
        "                       linewidth=5, antialiased=True)\n",
        "ax.set_zlim(-1, 1)\n",
        "\n",
        "plt.show()"
      ]
    },
    {
      "cell_type": "code",
      "execution_count": null,
      "metadata": {
        "colab": {
          "base_uri": "https://localhost:8080/",
          "height": 52
        },
        "id": "z4dHp_TwS48F",
        "outputId": "831d7d4c-31a7-4b52-a4cf-a3963f12010c"
      },
      "outputs": [
        {
          "data": {
            "text/plain": [
              "Text(0.5, 0.98, 'Dos figuras')"
            ]
          },
          "execution_count": 151,
          "metadata": {},
          "output_type": "execute_result"
        },
        {
          "data": {
            "text/plain": [
              "<Figure size 400x800 with 0 Axes>"
            ]
          },
          "metadata": {},
          "output_type": "display_data"
        }
      ],
      "source": [
        "fig = plt.figure(figsize=plt.figaspect(2.)) # la altura es el doble del ancho\n",
        "fig.suptitle('Dos figuras')"
      ]
    },
    {
      "cell_type": "code",
      "execution_count": null,
      "metadata": {
        "colab": {
          "base_uri": "https://localhost:8080/"
        },
        "id": "d6fRm04aTEhS",
        "outputId": "68c43f92-5c16-4cd3-f3ed-46b60190db09"
      },
      "outputs": [
        {
          "name": "stdout",
          "output_type": "stream",
          "text": [
            "10545504\n",
            "10545472\n"
          ]
        }
      ],
      "source": [
        "x = True\n",
        "print(id(x))\n",
        "x = False\n",
        "print(id(x))"
      ]
    },
    {
      "cell_type": "code",
      "execution_count": null,
      "metadata": {
        "id": "vvwJJLg1TJ4M"
      },
      "outputs": [],
      "source": []
    }
  ],
  "metadata": {
    "colab": {
      "provenance": []
    },
    "kernelspec": {
      "display_name": "Python 3",
      "name": "python3"
    },
    "language_info": {
      "codemirror_mode": {
        "name": "ipython",
        "version": 3
      },
      "file_extension": ".py",
      "mimetype": "text/x-python",
      "name": "python",
      "nbconvert_exporter": "python",
      "pygments_lexer": "ipython3",
      "version": "3.13.7"
    }
  },
  "nbformat": 4,
  "nbformat_minor": 0
}
