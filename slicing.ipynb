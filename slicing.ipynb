{
 "cells": [
  {
   "cell_type": "code",
   "execution_count": 16,
   "id": "f7f7ebcb",
   "metadata": {},
   "outputs": [],
   "source": [
    "import numpy as np\n"
   ]
  },
  {
   "cell_type": "code",
   "execution_count": 17,
   "id": "0193ef38",
   "metadata": {},
   "outputs": [
    {
     "name": "stdout",
     "output_type": "stream",
     "text": [
      "[[0.22328435 0.55727854 0.77090804 0.23210593 0.94567845]\n",
      " [0.35266461 0.60432954 0.3451098  0.04433512 0.05771241]\n",
      " [0.73198601 0.51736668 0.92790435 0.9601382  0.40820621]\n",
      " [0.96763504 0.9213744  0.50172356 0.37889407 0.59385304]]\n"
     ]
    }
   ],
   "source": [
    "A=np.random.rand(4,5)\n",
    "print(A)\n"
   ]
  },
  {
   "cell_type": "code",
   "execution_count": 24,
   "id": "689448ce",
   "metadata": {},
   "outputs": [
    {
     "name": "stdout",
     "output_type": "stream",
     "text": [
      "[[0.41579271 0.3901608  0.90830086 0.88191883 0.43589276]\n",
      " [0.82680614 0.69981008 0.86476296 0.87013806 0.7987004 ]\n",
      " [0.46972494 0.6948627  0.45665927 0.69035703 0.01291278]\n",
      " [0.84831865 0.36025327 0.71031279 0.8038905  0.90022349]\n",
      " [0.95661955 0.69599222 0.03828877 0.94026571 0.5476212 ]\n",
      " [0.03658423 0.05113932 0.31322373 0.67472276 0.35116308]]\n",
      "\n",
      " [0.69035703 0.5476212 ]\n"
     ]
    }
   ],
   "source": [
    "A=np.random.rand(6,5)\n",
    "print(A)\n",
    "\n",
    "\n",
    "print(\"\\n\",A[[2,4],[3,4]])"
   ]
  }
 ],
 "metadata": {
  "kernelspec": {
   "display_name": "Python 3",
   "language": "python",
   "name": "python3"
  },
  "language_info": {
   "codemirror_mode": {
    "name": "ipython",
    "version": 3
   },
   "file_extension": ".py",
   "mimetype": "text/x-python",
   "name": "python",
   "nbconvert_exporter": "python",
   "pygments_lexer": "ipython3",
   "version": "3.13.7"
  }
 },
 "nbformat": 4,
 "nbformat_minor": 5
}
